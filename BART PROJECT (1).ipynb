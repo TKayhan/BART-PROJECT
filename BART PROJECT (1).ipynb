{
 "cells": [
  {
   "cell_type": "raw",
   "id": "a84fb7c7",
   "metadata": {},
   "source": [
    "San Francisco Metrosu BART projesi - Burada hangi istasyondan en fazla yolcu\n",
    "taşındığını ve günün hangi saatinde yolculuk yaparsanız bir koltukta\n",
    "oturarak yolculuk yapabileceğinizi hesaplayacaksınız. ve aşağıdaki\n",
    "sorulara cevap vereceksiniz\n",
    "\n",
    "\n",
    "Data Analytics Questions\n",
    "Which BART station is the busiest?\n",
    "What is the least popular BART route?\n",
    "When is the best time to go to SF from Berkeley if you want to find a seat?\n",
    "Which day of the week is the busiest?\n",
    "How many people take the BART late at night?\n",
    "\n",
    "Data Science Questions\n",
    "Question A: Compute the straight line distance between every station\n",
    "Question B: Build a model that can predict the number of people commuting to work by Bart between any 2 stations:\n",
    "How would you approach that?\n",
    "What additional data would you need?\n",
    "How would you want the city or Bart officials to use your data?\n",
    "\n",
    "Data Preparation\n",
    "Append the two ridership files for 2016 and 2017\n",
    "Merge the station data file\n",
    "Answer data analytics questions"
   ]
  },
  {
   "cell_type": "code",
   "execution_count": 1,
   "id": "45171ad1",
   "metadata": {},
   "outputs": [
    {
     "name": "stdout",
     "output_type": "stream",
     "text": [
      "Requirement already satisfied: pandas in /Users/tugbakayhan/anaconda3/lib/python3.11/site-packages (1.5.3)\r\n",
      "Requirement already satisfied: python-dateutil>=2.8.1 in /Users/tugbakayhan/anaconda3/lib/python3.11/site-packages (from pandas) (2.8.2)\r\n",
      "Requirement already satisfied: pytz>=2020.1 in /Users/tugbakayhan/anaconda3/lib/python3.11/site-packages (from pandas) (2022.7)\r\n",
      "Requirement already satisfied: numpy>=1.21.0 in /Users/tugbakayhan/anaconda3/lib/python3.11/site-packages (from pandas) (1.24.3)\r\n",
      "Requirement already satisfied: six>=1.5 in /Users/tugbakayhan/anaconda3/lib/python3.11/site-packages (from python-dateutil>=2.8.1->pandas) (1.16.0)\r\n"
     ]
    }
   ],
   "source": [
    "!pip install pandas\n"
   ]
  },
  {
   "cell_type": "code",
   "execution_count": 2,
   "id": "48a39d22",
   "metadata": {},
   "outputs": [
    {
     "data": {
      "text/html": [
       "<div>\n",
       "<style scoped>\n",
       "    .dataframe tbody tr th:only-of-type {\n",
       "        vertical-align: middle;\n",
       "    }\n",
       "\n",
       "    .dataframe tbody tr th {\n",
       "        vertical-align: top;\n",
       "    }\n",
       "\n",
       "    .dataframe thead th {\n",
       "        text-align: right;\n",
       "    }\n",
       "</style>\n",
       "<table border=\"1\" class=\"dataframe\">\n",
       "  <thead>\n",
       "    <tr style=\"text-align: right;\">\n",
       "      <th></th>\n",
       "      <th>Date</th>\n",
       "      <th>Hour</th>\n",
       "      <th>Origin Station</th>\n",
       "      <th>Destination Station</th>\n",
       "      <th>Trip Count</th>\n",
       "    </tr>\n",
       "  </thead>\n",
       "  <tbody>\n",
       "    <tr>\n",
       "      <th>0</th>\n",
       "      <td>2011-01-01</td>\n",
       "      <td>0</td>\n",
       "      <td>12TH</td>\n",
       "      <td>12TH</td>\n",
       "      <td>1</td>\n",
       "    </tr>\n",
       "    <tr>\n",
       "      <th>1</th>\n",
       "      <td>2011-01-01</td>\n",
       "      <td>0</td>\n",
       "      <td>12TH</td>\n",
       "      <td>16TH</td>\n",
       "      <td>1</td>\n",
       "    </tr>\n",
       "    <tr>\n",
       "      <th>2</th>\n",
       "      <td>2011-01-01</td>\n",
       "      <td>0</td>\n",
       "      <td>12TH</td>\n",
       "      <td>24TH</td>\n",
       "      <td>3</td>\n",
       "    </tr>\n",
       "    <tr>\n",
       "      <th>3</th>\n",
       "      <td>2011-01-01</td>\n",
       "      <td>0</td>\n",
       "      <td>12TH</td>\n",
       "      <td>ASHB</td>\n",
       "      <td>2</td>\n",
       "    </tr>\n",
       "    <tr>\n",
       "      <th>4</th>\n",
       "      <td>2011-01-01</td>\n",
       "      <td>0</td>\n",
       "      <td>12TH</td>\n",
       "      <td>BAYF</td>\n",
       "      <td>5</td>\n",
       "    </tr>\n",
       "  </tbody>\n",
       "</table>\n",
       "</div>"
      ],
      "text/plain": [
       "         Date  Hour Origin Station Destination Station  Trip Count\n",
       "0  2011-01-01     0           12TH                12TH           1\n",
       "1  2011-01-01     0           12TH                16TH           1\n",
       "2  2011-01-01     0           12TH                24TH           3\n",
       "3  2011-01-01     0           12TH                ASHB           2\n",
       "4  2011-01-01     0           12TH                BAYF           5"
      ]
     },
     "execution_count": 2,
     "metadata": {},
     "output_type": "execute_result"
    }
   ],
   "source": [
    "import pandas as pd\n",
    "\n",
    "# Yıl aralığı\n",
    "start_year = 2011\n",
    "end_year = 2023\n",
    "\n",
    "data = {}  # Yıl bazında veriyi saklayacak bir sözlük\n",
    "\n",
    "for year in range(start_year, end_year + 1):\n",
    "    # Dosya adını oluşturun\n",
    "    filename = f\"{year}.csv\"  # Örneğin, \"2011.csv\"\n",
    "    \n",
    "    # Dosyayı okuyup DataFrame'e ekle\n",
    "    try:\n",
    "        data[year] = pd.read_csv(filename)\n",
    "    except FileNotFoundError:\n",
    "        print(f\"{filename} bulunamadı.\")\n",
    "\n",
    "# Tüm yılların verisini birleştirin\n",
    "df = pd.concat(data.values(), ignore_index=True)\n",
    "\n",
    "# DataFrame'i görüntüleyin\n",
    "df.head()\n"
   ]
  },
  {
   "cell_type": "markdown",
   "id": "fe6f594a",
   "metadata": {},
   "source": [
    "# Data Analytics Questions"
   ]
  },
  {
   "cell_type": "markdown",
   "id": "2215409a",
   "metadata": {},
   "source": [
    "## Which BART station is the busiest?"
   ]
  },
  {
   "cell_type": "code",
   "execution_count": 3,
   "id": "56f14aed",
   "metadata": {},
   "outputs": [
    {
     "name": "stdout",
     "output_type": "stream",
     "text": [
      "En yoğun istasyon: EMBR\n",
      "Trip sayısı: 230260653\n"
     ]
    }
   ],
   "source": [
    "station_totals = {}\n",
    "\n",
    "# DataFrame'i dolaşarak Trip Count'ları istasyonlarla çarpıp toplama işlemi\n",
    "for index, row in df.iterrows():\n",
    "    origin = row[\"Origin Station\"]\n",
    "    dest = row[\"Destination Station\"]\n",
    "    trip_count = row[\"Trip Count\"]\n",
    "    \n",
    "    if origin in station_totals:\n",
    "        station_totals[origin] += trip_count\n",
    "    else:\n",
    "        station_totals[origin] = trip_count\n",
    "    \n",
    "    if dest in station_totals:\n",
    "        station_totals[dest] += trip_count\n",
    "    else:\n",
    "        station_totals[dest] = trip_count\n",
    "\n",
    "# En yoğun istasyonu bulalım\n",
    "busiest_station = max(station_totals, key=station_totals.get)\n",
    "busiest_count = station_totals[busiest_station]\n",
    "\n",
    "print(\"En yoğun istasyon:\", busiest_station)\n",
    "print(\"Trip sayısı:\", busiest_count)"
   ]
  },
  {
   "cell_type": "markdown",
   "id": "a056e768",
   "metadata": {},
   "source": [
    "## What is the least popular BART route?"
   ]
  },
  {
   "cell_type": "code",
   "execution_count": 4,
   "id": "5b7872cc",
   "metadata": {},
   "outputs": [
    {
     "name": "stdout",
     "output_type": "stream",
     "text": [
      "En az Trip Count'a sahip güzergah: BERY-MLBR\n",
      "Trip Count: 232\n"
     ]
    }
   ],
   "source": [
    "df[\"Route\"] = df[\"Origin Station\"] + \"-\" + df[\"Destination Station\"]\n",
    "\n",
    "# Güzergahları gruplayarak Trip Count'ların toplamını hesaplayalım\n",
    "route_trip_counts = df.groupby(\"Route\")[\"Trip Count\"].sum()\n",
    "\n",
    "# En az Trip Count'a sahip güzergahı bulalım\n",
    "min_trip_route = route_trip_counts.idxmin()\n",
    "min_trip_count = route_trip_counts[min_trip_route]\n",
    "\n",
    "print(\"En az Trip Count'a sahip güzergah:\", min_trip_route)\n",
    "print(\"Trip Count:\", min_trip_count)"
   ]
  },
  {
   "cell_type": "markdown",
   "id": "dad1a8f0",
   "metadata": {},
   "source": [
    "## When is the best time to go to SF from Berkeley if you want to find a seat?"
   ]
  },
  {
   "cell_type": "code",
   "execution_count": 5,
   "id": "0f140c4c",
   "metadata": {},
   "outputs": [
    {
     "ename": "ValueError",
     "evalue": "too many values to unpack (expected 2)",
     "output_type": "error",
     "traceback": [
      "\u001b[0;31m---------------------------------------------------------------------------\u001b[0m",
      "\u001b[0;31mValueError\u001b[0m                                Traceback (most recent call last)",
      "Cell \u001b[0;32mIn[5], line 11\u001b[0m\n\u001b[1;32m      8\u001b[0m route_hourly_trip_counts \u001b[38;5;241m=\u001b[39m filtered_trips\u001b[38;5;241m.\u001b[39mgroupby([\u001b[38;5;124m\"\u001b[39m\u001b[38;5;124mOrigin Station\u001b[39m\u001b[38;5;124m\"\u001b[39m, \u001b[38;5;124m\"\u001b[39m\u001b[38;5;124mDestination Station\u001b[39m\u001b[38;5;124m\"\u001b[39m, \u001b[38;5;124m\"\u001b[39m\u001b[38;5;124mHour\u001b[39m\u001b[38;5;124m\"\u001b[39m])[\u001b[38;5;124m\"\u001b[39m\u001b[38;5;124mTrip Count\u001b[39m\u001b[38;5;124m\"\u001b[39m]\u001b[38;5;241m.\u001b[39msum()\n\u001b[1;32m     10\u001b[0m \u001b[38;5;66;03m# Find the route and hour with the fewest trips\u001b[39;00m\n\u001b[0;32m---> 11\u001b[0m best_route, best_hour \u001b[38;5;241m=\u001b[39m route_hourly_trip_counts\u001b[38;5;241m.\u001b[39midxmin()\n\u001b[1;32m     13\u001b[0m \u001b[38;5;28mprint\u001b[39m(\u001b[38;5;124m\"\u001b[39m\u001b[38;5;124mBest route from Berkeley to SF to find a seat:\u001b[39m\u001b[38;5;124m\"\u001b[39m, best_route)\n\u001b[1;32m     14\u001b[0m \u001b[38;5;28mprint\u001b[39m(\u001b[38;5;124m\"\u001b[39m\u001b[38;5;124mBest hour:\u001b[39m\u001b[38;5;124m\"\u001b[39m, best_hour, \u001b[38;5;124m\"\u001b[39m\u001b[38;5;124mo\u001b[39m\u001b[38;5;124m'\u001b[39m\u001b[38;5;124mclock\u001b[39m\u001b[38;5;124m\"\u001b[39m)\n",
      "\u001b[0;31mValueError\u001b[0m: too many values to unpack (expected 2)"
     ]
    }
   ],
   "source": [
    "berklay=[\"ASHB\", \"DBRK\",\"NBRK\"]\n",
    "sf=[\"16TH\",\"24TH\",\"BALB\",\"CIVC\", \"EMBR\", \"GLEN\", \"MONT\", \"POWL\",\"SSANF\"]\n",
    "# Filter trips between Berkeley and SF stations\n",
    "filtered_trips = df[(df[\"Origin Station\"].isin(berklay) & df[\"Destination Station\"].isin(sf)) |\n",
    "                    (df[\"Origin Station\"].isin(sf) & df[\"Destination Station\"].isin(berklay))]\n",
    "\n",
    "# Group and sum trips by route and hour\n",
    "route_hourly_trip_counts = filtered_trips.groupby([\"Origin Station\", \"Destination Station\", \"Hour\"])[\"Trip Count\"].sum()\n",
    "\n",
    "# Find the route and hour with the fewest trips\n",
    "best_route, best_hour = route_hourly_trip_counts.idxmin()\n",
    "\n",
    "print(\"Best route from Berkeley to SF to find a seat:\", best_route)\n",
    "print(\"Best hour:\", best_hour, \"o'clock\")"
   ]
  },
  {
   "cell_type": "markdown",
   "id": "6bf07818",
   "metadata": {},
   "source": [
    "## Which day of the week is the busiest?"
   ]
  },
  {
   "cell_type": "code",
   "execution_count": 6,
   "id": "28ca8c39",
   "metadata": {},
   "outputs": [],
   "source": [
    "df[\"Date\"] = pd.to_datetime(df[\"Date\"])\n",
    "df[\"Day_of_Week\"] = df[\"Date\"].dt.day_name()"
   ]
  },
  {
   "cell_type": "code",
   "execution_count": 7,
   "id": "f0677d5e",
   "metadata": {},
   "outputs": [
    {
     "data": {
      "text/html": [
       "<div>\n",
       "<style scoped>\n",
       "    .dataframe tbody tr th:only-of-type {\n",
       "        vertical-align: middle;\n",
       "    }\n",
       "\n",
       "    .dataframe tbody tr th {\n",
       "        vertical-align: top;\n",
       "    }\n",
       "\n",
       "    .dataframe thead th {\n",
       "        text-align: right;\n",
       "    }\n",
       "</style>\n",
       "<table border=\"1\" class=\"dataframe\">\n",
       "  <thead>\n",
       "    <tr style=\"text-align: right;\">\n",
       "      <th></th>\n",
       "      <th>Date</th>\n",
       "      <th>Hour</th>\n",
       "      <th>Origin Station</th>\n",
       "      <th>Destination Station</th>\n",
       "      <th>Trip Count</th>\n",
       "      <th>Route</th>\n",
       "      <th>Day_of_Week</th>\n",
       "    </tr>\n",
       "  </thead>\n",
       "  <tbody>\n",
       "    <tr>\n",
       "      <th>0</th>\n",
       "      <td>2011-01-01</td>\n",
       "      <td>0</td>\n",
       "      <td>12TH</td>\n",
       "      <td>12TH</td>\n",
       "      <td>1</td>\n",
       "      <td>12TH-12TH</td>\n",
       "      <td>Saturday</td>\n",
       "    </tr>\n",
       "    <tr>\n",
       "      <th>1</th>\n",
       "      <td>2011-01-01</td>\n",
       "      <td>0</td>\n",
       "      <td>12TH</td>\n",
       "      <td>16TH</td>\n",
       "      <td>1</td>\n",
       "      <td>12TH-16TH</td>\n",
       "      <td>Saturday</td>\n",
       "    </tr>\n",
       "    <tr>\n",
       "      <th>2</th>\n",
       "      <td>2011-01-01</td>\n",
       "      <td>0</td>\n",
       "      <td>12TH</td>\n",
       "      <td>24TH</td>\n",
       "      <td>3</td>\n",
       "      <td>12TH-24TH</td>\n",
       "      <td>Saturday</td>\n",
       "    </tr>\n",
       "    <tr>\n",
       "      <th>3</th>\n",
       "      <td>2011-01-01</td>\n",
       "      <td>0</td>\n",
       "      <td>12TH</td>\n",
       "      <td>ASHB</td>\n",
       "      <td>2</td>\n",
       "      <td>12TH-ASHB</td>\n",
       "      <td>Saturday</td>\n",
       "    </tr>\n",
       "    <tr>\n",
       "      <th>4</th>\n",
       "      <td>2011-01-01</td>\n",
       "      <td>0</td>\n",
       "      <td>12TH</td>\n",
       "      <td>BAYF</td>\n",
       "      <td>5</td>\n",
       "      <td>12TH-BAYF</td>\n",
       "      <td>Saturday</td>\n",
       "    </tr>\n",
       "  </tbody>\n",
       "</table>\n",
       "</div>"
      ],
      "text/plain": [
       "        Date  Hour Origin Station Destination Station  Trip Count      Route  \\\n",
       "0 2011-01-01     0           12TH                12TH           1  12TH-12TH   \n",
       "1 2011-01-01     0           12TH                16TH           1  12TH-16TH   \n",
       "2 2011-01-01     0           12TH                24TH           3  12TH-24TH   \n",
       "3 2011-01-01     0           12TH                ASHB           2  12TH-ASHB   \n",
       "4 2011-01-01     0           12TH                BAYF           5  12TH-BAYF   \n",
       "\n",
       "  Day_of_Week  \n",
       "0    Saturday  \n",
       "1    Saturday  \n",
       "2    Saturday  \n",
       "3    Saturday  \n",
       "4    Saturday  "
      ]
     },
     "execution_count": 7,
     "metadata": {},
     "output_type": "execute_result"
    }
   ],
   "source": [
    "df.head()"
   ]
  },
  {
   "cell_type": "code",
   "execution_count": 8,
   "id": "45155c8e",
   "metadata": {},
   "outputs": [
    {
     "name": "stdout",
     "output_type": "stream",
     "text": [
      "En meşgul günler: Friday\n",
      "Toplam Trip Count: 999147210\n"
     ]
    }
   ],
   "source": [
    "# Trip Count ile Day_of_Week sütununu çarpıp yeni bir sütun oluşturalım\n",
    "df[\"Total_Trip\"] = df[\"Trip Count\"] * df[\"Day_of_Week\"].apply(lambda day: {\"Monday\": 1, \"Tuesday\": 2, \"Wednesday\": 3, \"Thursday\": 4, \"Friday\": 5, \"Saturday\": 6, \"Sunday\": 7}[day])\n",
    "\n",
    "# Günleri gruplayarak toplam Trip Count'ları hesaplayalım\n",
    "daily_trip_totals = df.groupby(\"Day_of_Week\")[\"Total_Trip\"].sum()\n",
    "\n",
    "# En meşgul günleri bulalım\n",
    "busiest_days = daily_trip_totals.idxmax()\n",
    "busiest_trip_count = daily_trip_totals[busiest_days]\n",
    "\n",
    "print(\"En meşgul günler:\", busiest_days)\n",
    "print(\"Toplam Trip Count:\", busiest_trip_count)"
   ]
  },
  {
   "cell_type": "markdown",
   "id": "0dfea4e9",
   "metadata": {},
   "source": [
    "## How many people take the BART late at night?"
   ]
  },
  {
   "cell_type": "raw",
   "id": "4974ca6c",
   "metadata": {},
   "source": [
    "İnsan sayısını elde edemeyiz verilen datalarda bu bilgi yok ama gece kaç sefer düzenleniyor bulaibiliriz."
   ]
  },
  {
   "cell_type": "code",
   "execution_count": 9,
   "id": "589ee448",
   "metadata": {},
   "outputs": [
    {
     "name": "stdout",
     "output_type": "stream",
     "text": [
      "Gece seferlerinin toplam Trip Count'ı: 112826588\n"
     ]
    }
   ],
   "source": [
    "# Gece seferlerini bulalım\n",
    "night_trips = df[(df[\"Hour\"] >= 22) | (df[\"Hour\"] <= 6)]\n",
    "\n",
    "# Gece seferlerinin toplam Trip Count'ını hesaplayalım\n",
    "total_night_trips = night_trips[\"Trip Count\"].sum()\n",
    "\n",
    "print(\"Gece seferlerinin toplam Trip Count'ı:\", total_night_trips)"
   ]
  },
  {
   "cell_type": "markdown",
   "id": "5d6abf29",
   "metadata": {},
   "source": [
    "# Data Science Questions"
   ]
  },
  {
   "cell_type": "markdown",
   "id": "105a359e",
   "metadata": {},
   "source": [
    "## Question A: Compute the straight line distance between every station"
   ]
  },
  {
   "cell_type": "code",
   "execution_count": null,
   "id": "72ebeacf",
   "metadata": {},
   "outputs": [],
   "source": [
    "berklay : Latitude: 37° 52' 11.28\" N\n",
    "          Longitude: -122° 16' 5.51\" W\n",
    "                \n",
    "macarthur: Latitude: 37° 49' 41.74\" N\n",
    "           Longitude: -122° 16' 2.19\" W"
   ]
  },
  {
   "cell_type": "code",
   "execution_count": 13,
   "id": "35a6bbba",
   "metadata": {},
   "outputs": [
    {
     "name": "stdout",
     "output_type": "stream",
     "text": [
      "Collecting geopy\n",
      "  Obtaining dependency information for geopy from https://files.pythonhosted.org/packages/e1/58/9289c6a03116025cdb61461d99b2493daa4967a80b13755463d71a0affeb/geopy-2.4.0-py3-none-any.whl.metadata\n",
      "  Downloading geopy-2.4.0-py3-none-any.whl.metadata (6.8 kB)\n",
      "Collecting geographiclib<3,>=1.52 (from geopy)\n",
      "  Downloading geographiclib-2.0-py3-none-any.whl (40 kB)\n",
      "\u001b[2K     \u001b[90m━━━━━━━━━━━━━━━━━━━━━━━━━━━━━━━━━━━━━━━\u001b[0m \u001b[32m40.3/40.3 kB\u001b[0m \u001b[31m500.9 kB/s\u001b[0m eta \u001b[36m0:00:00\u001b[0m \u001b[36m0:00:01\u001b[0m\n",
      "\u001b[?25hDownloading geopy-2.4.0-py3-none-any.whl (125 kB)\n",
      "\u001b[2K   \u001b[90m━━━━━━━━━━━━━━━━━━━━━━━━━━━━━━━━━━━━━━━━\u001b[0m \u001b[32m125.4/125.4 kB\u001b[0m \u001b[31m1.4 MB/s\u001b[0m eta \u001b[36m0:00:00\u001b[0m00:01\u001b[0m0:01\u001b[0m\n",
      "\u001b[?25hInstalling collected packages: geographiclib, geopy\n",
      "Successfully installed geographiclib-2.0 geopy-2.4.0\n",
      "Note: you may need to restart the kernel to use updated packages.\n"
     ]
    }
   ],
   "source": [
    "pip install geopy\n"
   ]
  },
  {
   "cell_type": "code",
   "execution_count": 15,
   "id": "1d8760d5",
   "metadata": {},
   "outputs": [
    {
     "name": "stdout",
     "output_type": "stream",
     "text": [
      "Berklay ile MacArthur istasyonu arasındaki düz çizgi mesafesi: 4.6112661204183905 km\n"
     ]
    }
   ],
   "source": [
    "from geopy.distance import geodesic\n",
    "\n",
    "# Berklay ve MacArthur istasyonlarının koordinatlarını ondalık cinsine dönüştürelim\n",
    "berklay_coords = (37 + 52/60 + 11.28/3600, -122 - 16/60 - 5.51/3600)  # Latitude, Longitude\n",
    "macarthur_coords = (37 + 49/60 + 41.74/3600, -122 - 16/60 - 2.19/3600)  # Latitude, Longitude\n",
    "\n",
    "# Düz çizgi mesafesini hesaplayalım\n",
    "distance = geodesic(berklay_coords, macarthur_coords).kilometers\n",
    "\n",
    "print(f\"Berklay ile MacArthur istasyonu arasındaki düz çizgi mesafesi: {distance} km\")\n"
   ]
  },
  {
   "cell_type": "markdown",
   "id": "ebbbb8be",
   "metadata": {},
   "source": [
    "## Question B: Build a model that can predict the number of people commuting to work by Bart between any 2 stations:\n",
    "## How would you approach that?"
   ]
  },
  {
   "cell_type": "raw",
   "id": "2541d358",
   "metadata": {},
   "source": [
    "Eylül 2021 itibarıyla BART trenlerinin genellikle ortalama olarak ortalama 700 ila 1000 arasında yolcu kapasitesine sahip olduğu bilinmekteydi. Bu rakamlar farklı tren modellerine ve hatlara göre değişebilir"
   ]
  },
  {
   "cell_type": "code",
   "execution_count": 18,
   "id": "6c063450",
   "metadata": {},
   "outputs": [
    {
     "name": "stdout",
     "output_type": "stream",
     "text": [
      "Sabah 6-9 arası min trip sayısı: 1\n",
      "Sabah 6-9 arası max trip sayısı: 1317\n",
      "Akşam 5-8 arası min trip sayısı: 1\n",
      "Akşam 5-8 arası max trip sayısı: 1148\n"
     ]
    }
   ],
   "source": [
    "# Sabah 6 ile 9 arası ve akşam 5 ile 8 arası kalkan trenleri filtreleyelim\n",
    "morning_trains = df[(df[\"Hour\"] >= 6) & (df[\"Hour\"] <= 9)]\n",
    "evening_trains = df[(df[\"Hour\"] >= 5) & (df[\"Hour\"] <= 8)]\n",
    "\n",
    "# Belirli saat aralıklarında kalkan trenlerin min ve max yolcu sayılarını hesaplayalım\n",
    "min_morning_passengers = morning_trains[\"Trip Count\"].min()\n",
    "max_morning_passengers = morning_trains[\"Trip Count\"].max()\n",
    "\n",
    "min_evening_passengers = evening_trains[\"Trip Count\"].min()\n",
    "max_evening_passengers = evening_trains[\"Trip Count\"].max()\n",
    "\n",
    "print(\"Sabah 6-9 arası min trip sayısı:\", min_morning_passengers)\n",
    "print(\"Sabah 6-9 arası max trip sayısı:\", max_morning_passengers)\n",
    "\n",
    "print(\"Akşam 5-8 arası min trip sayısı:\", min_evening_passengers)\n",
    "print(\"Akşam 5-8 arası max trip sayısı:\", max_evening_passengers)"
   ]
  },
  {
   "cell_type": "code",
   "execution_count": null,
   "id": "96a342a1",
   "metadata": {},
   "outputs": [],
   "source": []
  },
  {
   "cell_type": "code",
   "execution_count": null,
   "id": "c90992d0",
   "metadata": {},
   "outputs": [],
   "source": []
  },
  {
   "cell_type": "code",
   "execution_count": null,
   "id": "9ba83a6c",
   "metadata": {},
   "outputs": [],
   "source": []
  },
  {
   "cell_type": "code",
   "execution_count": null,
   "id": "56474f9a",
   "metadata": {},
   "outputs": [],
   "source": []
  },
  {
   "cell_type": "code",
   "execution_count": null,
   "id": "6be1d7ee",
   "metadata": {},
   "outputs": [],
   "source": []
  },
  {
   "cell_type": "code",
   "execution_count": null,
   "id": "7bd654e2",
   "metadata": {},
   "outputs": [],
   "source": []
  },
  {
   "cell_type": "code",
   "execution_count": null,
   "id": "9a5e2d30",
   "metadata": {},
   "outputs": [],
   "source": []
  },
  {
   "cell_type": "code",
   "execution_count": null,
   "id": "864b221d",
   "metadata": {},
   "outputs": [],
   "source": []
  },
  {
   "cell_type": "code",
   "execution_count": null,
   "id": "a1aaf672",
   "metadata": {},
   "outputs": [],
   "source": []
  },
  {
   "cell_type": "code",
   "execution_count": null,
   "id": "fbbeab9a",
   "metadata": {},
   "outputs": [],
   "source": []
  },
  {
   "cell_type": "code",
   "execution_count": null,
   "id": "80e9cb9c",
   "metadata": {},
   "outputs": [],
   "source": []
  },
  {
   "cell_type": "code",
   "execution_count": null,
   "id": "702f937c",
   "metadata": {},
   "outputs": [],
   "source": []
  },
  {
   "cell_type": "code",
   "execution_count": null,
   "id": "204d797d",
   "metadata": {},
   "outputs": [],
   "source": []
  },
  {
   "cell_type": "code",
   "execution_count": null,
   "id": "0fdc36d2",
   "metadata": {},
   "outputs": [],
   "source": []
  },
  {
   "cell_type": "code",
   "execution_count": null,
   "id": "c1947575",
   "metadata": {},
   "outputs": [],
   "source": []
  },
  {
   "cell_type": "code",
   "execution_count": null,
   "id": "750b4a27",
   "metadata": {},
   "outputs": [],
   "source": []
  },
  {
   "cell_type": "code",
   "execution_count": null,
   "id": "c43402b5",
   "metadata": {},
   "outputs": [],
   "source": []
  },
  {
   "cell_type": "code",
   "execution_count": null,
   "id": "835d56af",
   "metadata": {},
   "outputs": [],
   "source": []
  },
  {
   "cell_type": "code",
   "execution_count": null,
   "id": "df2474d5",
   "metadata": {},
   "outputs": [],
   "source": []
  },
  {
   "cell_type": "code",
   "execution_count": null,
   "id": "633e681f",
   "metadata": {},
   "outputs": [],
   "source": []
  },
  {
   "cell_type": "code",
   "execution_count": null,
   "id": "3c774183",
   "metadata": {},
   "outputs": [],
   "source": []
  },
  {
   "cell_type": "code",
   "execution_count": null,
   "id": "96b220cc",
   "metadata": {},
   "outputs": [],
   "source": []
  },
  {
   "cell_type": "code",
   "execution_count": null,
   "id": "38ce83b8",
   "metadata": {},
   "outputs": [],
   "source": []
  },
  {
   "cell_type": "code",
   "execution_count": null,
   "id": "9d3b5d0a",
   "metadata": {},
   "outputs": [],
   "source": []
  },
  {
   "cell_type": "code",
   "execution_count": null,
   "id": "702479eb",
   "metadata": {},
   "outputs": [],
   "source": []
  },
  {
   "cell_type": "code",
   "execution_count": null,
   "id": "b854aa66",
   "metadata": {},
   "outputs": [],
   "source": []
  },
  {
   "cell_type": "code",
   "execution_count": null,
   "id": "5746fbe7",
   "metadata": {},
   "outputs": [],
   "source": []
  },
  {
   "cell_type": "code",
   "execution_count": null,
   "id": "35882e11",
   "metadata": {},
   "outputs": [],
   "source": []
  },
  {
   "cell_type": "code",
   "execution_count": null,
   "id": "e9b565fb",
   "metadata": {},
   "outputs": [],
   "source": []
  }
 ],
 "metadata": {
  "kernelspec": {
   "display_name": "Python 3 (ipykernel)",
   "language": "python",
   "name": "python3"
  },
  "language_info": {
   "codemirror_mode": {
    "name": "ipython",
    "version": 3
   },
   "file_extension": ".py",
   "mimetype": "text/x-python",
   "name": "python",
   "nbconvert_exporter": "python",
   "pygments_lexer": "ipython3",
   "version": "3.11.4"
  }
 },
 "nbformat": 4,
 "nbformat_minor": 5
}
